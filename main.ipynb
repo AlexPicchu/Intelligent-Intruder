{
 "cells": [
  {
   "attachments": {},
   "cell_type": "markdown",
   "metadata": {},
   "source": [
    "### 1. Reading in James' simulation data using Pandas"
   ]
  },
  {
   "cell_type": "code",
   "execution_count": 1,
   "metadata": {},
   "outputs": [],
   "source": [
    "import pandas as pd\n",
    "\n",
    "file_path = 'dtag/grid/4_agents/4/velocity_metrics.csv'\n",
    "file_path2 = 'dtag/grid/4_agents/4/idleness.csv'\n",
    "file_path3 = 'dtag/grid/4_agents/4/vulnerabilities.csv'\n",
    "file_path4 = 'dtag/grid/4_agents/4/distance_metrics.csv'\n",
    "\n",
    "df_vel = pd.read_csv(file_path, sep=';', header=None)\n",
    "df_idle = pd.read_csv(file_path2, sep=';',header=None)\n",
    "df_vuln = pd.read_csv(file_path3, sep=';',header=None)\n",
    "df_dist = pd.read_csv(file_path4, sep=';',header=None)"
   ]
  },
  {
   "attachments": {},
   "cell_type": "markdown",
   "metadata": {},
   "source": [
    "### 2. Cleaning and reshaping data"
   ]
  },
  {
   "cell_type": "code",
   "execution_count": 2,
   "metadata": {},
   "outputs": [],
   "source": [
    "import numpy as np\n",
    "\n",
    "N = len(df_vel.T)-1 # number of nodes in the enviroment\n",
    "\n",
    "# remove timestep column\n",
    "vel_data = df_vel.iloc[:, 1:N+1]\n",
    "idle_data = df_idle.iloc[:, 1:N+1].copy() # use copy to avoid modifcation warning\n",
    "idle_data[idle_data < 0] = np.nan # set negative idle values to NaN for later removal\n",
    "vuln_data = df_vuln.iloc[:, 1:N+1]\n",
    "dist_data = df_dist.iloc[:, 1:N+1]\n",
    "\n",
    "# combine datasets \n",
    "df = pd.concat([vel_data,idle_data,dist_data,vuln_data],axis=1)\n",
    "df = df.replace([np.inf, -np.inf], np.nan) # set all inf values to NaN for later removal\n",
    "\n",
    "# Drop rows with NaN values\n",
    "df = df.dropna()\n",
    "\n",
    "# attack length threshold to determine attack success and update to binary classification:\n",
    "threshold = 50\n",
    "for col in range(N*3,N*4):\n",
    "    df.iloc[:, col] = (df.iloc[:, col] >= threshold).astype(int)\n",
    "\n",
    "# convert data to array\n",
    "dataset = df.to_numpy()\n",
    "\n",
    "# split into train and test sets\n",
    "train_size = int(len(dataset) * 0.7)\n",
    "test_size = len(dataset) - train_size\n",
    "trainX, trainY, testX, testY = dataset[0:train_size,0:-N], dataset[0:train_size,N*3:N*4],dataset[train_size:len(dataset),0:-N], dataset[train_size:len(dataset),N*3:N*4] \n",
    "#split is appropriate as it trains on the first set of timestep values\n",
    "\n",
    "# reshape data to appropriate format as (timestep, number of nodes, number of features)\n",
    "trainX = np.reshape(trainX, (trainX.shape[0],trainX.shape[-1]//3,3))\n",
    "testX = np.reshape(testX, (testX.shape[0],testX.shape[-1]//3,3))"
   ]
  },
  {
   "attachments": {},
   "cell_type": "markdown",
   "metadata": {},
   "source": [
    "### 3. Create adjacency matrix for data's respective enviroment"
   ]
  },
  {
   "cell_type": "code",
   "execution_count": 3,
   "metadata": {},
   "outputs": [
    {
     "data": {
      "image/png": "[encoded data removed]",
      "text/plain": [
       "<Figure size 640x480 with 1 Axes>"
      ]
     },
     "metadata": {},
     "output_type": "display_data"
    }
   ],
   "source": [
    "import networkx as nx\n",
    "\n",
    "# Create node mappings\n",
    "G = nx.grid_2d_graph(5, 5)\n",
    "\n",
    "# convert to array\n",
    "adjacency_matrix = nx.adjacency_matrix(G)\n",
    "adjacency_matrix = adjacency_matrix.toarray()\n",
    "\n",
    "# reshape to work with GNN and timeseries data\n",
    "adjacency_matrix_train = np.repeat(adjacency_matrix[np.newaxis, :, :], train_size, axis=0)\n",
    "adjacency_matrix_test = np.repeat(adjacency_matrix[np.newaxis, :, :], test_size, axis=0)\n",
    "\n",
    "#------------------------------------------------------------------------------------------------------------------------------------------------\n",
    "# Visualise the enviroment for verification\n",
    "#------------------------------------------------------------------------------------------------------------------------------------------------\n",
    "\n",
    "import matplotlib.pyplot as plt\n",
    "\n",
    "# Plot the graph\n",
    "pos = {(x, y): (y, -x) for x, y in G.nodes()}\n",
    "nx.draw(G, pos, with_labels=True, node_size=500, node_color='skyblue', font_size=10, font_color='black', font_weight='bold')\n",
    "\n",
    "plt.axis('off')\n",
    "plt.show()"
   ]
  },
  {
   "attachments": {},
   "cell_type": "markdown",
   "metadata": {},
   "source": [
    "### 4. Compile and fit model"
   ]
  },
  {
   "cell_type": "code",
   "execution_count": 4,
   "metadata": {},
   "outputs": [
    {
     "name": "stderr",
     "output_type": "stream",
     "text": [
      "2024-01-10 21:08:32.293722: I tensorflow/core/platform/cpu_feature_guard.cc:182] This TensorFlow binary is optimized to use available CPU instructions in performance-critical operations.\n",
      "To enable the following instructions: AVX2 FMA, in other operations, rebuild TensorFlow with the appropriate compiler flags.\n"
     ]
    },
    {
     "name": "stdout",
     "output_type": "stream",
     "text": [
      "Epoch 1/10\n",
      "14869/14869 - 15s - loss: 0.5272 - accuracy: 0.1067 - 15s/epoch - 982us/step\n",
      "Epoch 2/10\n",
      "14869/14869 - 15s - loss: 0.3173 - accuracy: 0.1296 - 15s/epoch - 1ms/step\n",
      "Epoch 3/10\n",
      "14869/14869 - 15s - loss: 0.3045 - accuracy: 0.1568 - 15s/epoch - 982us/step\n",
      "Epoch 4/10\n",
      "14869/14869 - 14s - loss: 0.2992 - accuracy: 0.1526 - 14s/epoch - 934us/step\n",
      "Epoch 5/10\n",
      "14869/14869 - 15s - loss: 0.2967 - accuracy: 0.1511 - 15s/epoch - 1ms/step\n",
      "Epoch 6/10\n",
      "14869/14869 - 15s - loss: 0.2944 - accuracy: 0.1483 - 15s/epoch - 981us/step\n",
      "Epoch 7/10\n",
      "14869/14869 - 13s - loss: 0.2928 - accuracy: 0.1537 - 13s/epoch - 875us/step\n",
      "Epoch 8/10\n",
      "14869/14869 - 13s - loss: 0.2922 - accuracy: 0.1511 - 13s/epoch - 906us/step\n",
      "Epoch 9/10\n",
      "14869/14869 - 14s - loss: 0.2908 - accuracy: 0.1529 - 14s/epoch - 927us/step\n",
      "Epoch 10/10\n",
      "14869/14869 - 14s - loss: 0.2902 - accuracy: 0.1477 - 14s/epoch - 930us/step\n"
     ]
    }
   ],
   "source": [
    "from Intruder_functionality import machine_learning as ml\n",
    "\n",
    "data_shape = (trainX.shape[1], trainX.shape[-1])\n",
    "adjacency_shape = adjacency_matrix_train.shape[1:]\n",
    "\n",
    "# Create an instance of the GraphConvolutionalNetwork\n",
    "gcn_model = ml.ML_Intruder(data_shape, adjacency_shape)\n",
    "\n",
    "# Compile the model\n",
    "gcn_model.compile()\n",
    "\n",
    "# Fit the model to the data\n",
    "gcn_model.fit(trainX, adjacency_matrix_train, trainY, epochs=10, batch_size=1, verbose=2)"
   ]
  },
  {
   "cell_type": "code",
   "execution_count": 5,
   "metadata": {},
   "outputs": [
    {
     "name": "stdout",
     "output_type": "stream",
     "text": [
      "Model: \"model\"\n",
      "__________________________________________________________________________________________________\n",
      " Layer (type)                Output Shape                 Param #   Connected to                  \n",
      "==================================================================================================\n",
      " node_input (InputLayer)     [(None, 25, 3)]              0         []                            \n",
      "                                                                                                  \n",
      " adjacency_input (InputLaye  [(None, 25, 25)]             0         []                            \n",
      " r)                                                                                               \n",
      "                                                                                                  \n",
      " gcn_layer (GCNLayer)        (None, 25, 3)                2         ['node_input[0][0]',          \n",
      "                                                                     'adjacency_input[0][0]']     \n",
      "                                                                                                  \n",
      " time_distributed (TimeDist  (None, 25, 4)                16        ['gcn_layer[0][0]']           \n",
      " ributed)                                                                                         \n",
      "                                                                                                  \n",
      " flatten (Flatten)           (None, 100)                  0         ['time_distributed[0][0]']    \n",
      "                                                                                                  \n",
      " dense_1 (Dense)             (None, 25)                   2525      ['flatten[0][0]']             \n",
      "                                                                                                  \n",
      "==================================================================================================\n",
      "Total params: 2543 (9.93 KB)\n",
      "Trainable params: 2543 (9.93 KB)\n",
      "Non-trainable params: 0 (0.00 Byte)\n",
      "__________________________________________________________________________________________________\n"
     ]
    }
   ],
   "source": [
    "# Print the model summary\n",
    "gcn_model.summary()"
   ]
  },
  {
   "attachments": {},
   "cell_type": "markdown",
   "metadata": {},
   "source": [
    "### 5. Overall Performance Review "
   ]
  },
  {
   "cell_type": "code",
   "execution_count": 6,
   "metadata": {},
   "outputs": [
    {
     "name": "stdout",
     "output_type": "stream",
     "text": [
      "465/465 [==============================] - 1s 1ms/step\n",
      "Accuracy: 0.8757199542672675\n",
      "F1 Score: 0.7341214116347061\n",
      "200/200 [==============================] - 0s 1ms/step\n",
      "Accuracy: 0.866549505727287\n",
      "F1 Score: 0.7142818748656202\n"
     ]
    }
   ],
   "source": [
    "threshold = 0.5\n",
    "train_predict = gcn_model.predict(trainX, adjacency_matrix_train)\n",
    "train_predict_binary = gcn_model.binary_predict(threshold)\n",
    "test_predict = gcn_model.predict( testX, adjacency_matrix_test)\n",
    "test_predict_binary = gcn_model.binary_predict(threshold)\n"
   ]
  },
  {
   "cell_type": "code",
   "execution_count": null,
   "metadata": {},
   "outputs": [],
   "source": []
  }
 ],
 "metadata": {
  "kernelspec": {
   "display_name": ".venv",
   "language": "python",
   "name": "python3"
  },
  "language_info": {
   "codemirror_mode": {
    "name": "ipython",
    "version": 3
   },
   "file_extension": ".py",
   "mimetype": "text/x-python",
   "name": "python",
   "nbconvert_exporter": "python",
   "pygments_lexer": "ipython3",
   "version": "3.8.3"
  },
  "orig_nbformat": 4
 },
 "nbformat": 4,
 "nbformat_minor": 2
}
